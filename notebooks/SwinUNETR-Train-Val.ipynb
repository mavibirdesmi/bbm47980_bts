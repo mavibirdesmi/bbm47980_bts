{
 "cells": [
  {
   "cell_type": "code",
   "execution_count": 2,
   "id": "7f3e7756",
   "metadata": {},
   "outputs": [],
   "source": [
    "import argparse\n",
    "from functools import partial\n",
    "from typing import Dict, Optional, Union\n",
    "\n",
    "import torch\n",
    "from monai.data import decollate_batch\n",
    "from monai.inferers import sliding_window_inference\n",
    "from monai.losses.dice import DiceLoss\n",
    "from monai.metrics import DiceMetric\n",
    "from monai.transforms import Activations, AsDiscrete\n",
    "from torch.utils.data import DataLoader\n",
    "\n",
    "from bts.common import logutils, miscutils\n",
    "from bts.common.miscutils import DotConfig\n",
    "from bts.data.dataset import get_train_dataset, get_val_dataset\n",
    "from bts.swinunetr import model as smodel"
   ]
  },
  {
   "cell_type": "code",
   "execution_count": 3,
   "id": "d7b7acc3",
   "metadata": {},
   "outputs": [],
   "source": [
    "logger = logutils.get_logger(__name__)"
   ]
  },
  {
   "cell_type": "code",
   "execution_count": 4,
   "id": "9deda2a6",
   "metadata": {},
   "outputs": [
    {
     "name": "stderr",
     "output_type": "stream",
     "text": [
      "[:home:vedatb:senior-project:bbm47980_bts:.venv:lib:python3.9:site-packages:miscutils.py:load_hyperparameters:55] Hyperparameters loaded: {'BATCH_SIZE': 1, 'SHUFFLE': True, 'ROI': [128, 128, 128], 'IN_CHANNELS': 1, 'OUT_CHANNELS': 2, 'FEATURE_SIZE': 48, 'GRADIENT_CHECKPOINT': True, 'EPOCHS': 100, 'FOLD': 1, 'SW_BATCH_SIZE': 2, 'LEARNING_RATE': 0.0001, 'INFER_OVERLAP': 0.6, 'WEIGHT_DECAY': 1e-05, 'DEVICE': 'cuda', 'LABELS': {'GROUND': 0, 'BRAIN': 1, 'TUMOR': 2}, 'DATA_DIR': '../../data'}\n"
     ]
    },
    {
     "data": {
      "text/plain": [
       "DotConfig({'BATCH_SIZE': 1, 'SHUFFLE': True, 'ROI': [128, 128, 128], 'IN_CHANNELS': 1, 'OUT_CHANNELS': 2, 'FEATURE_SIZE': 48, 'GRADIENT_CHECKPOINT': True, 'EPOCHS': 100, 'FOLD': 1, 'SW_BATCH_SIZE': 2, 'LEARNING_RATE': 0.0001, 'INFER_OVERLAP': 0.6, 'WEIGHT_DECAY': 1e-05, 'DEVICE': 'cuda', 'LABELS': DotConfig({'GROUND': 0, 'BRAIN': 1, 'TUMOR': 2}), 'DATA_DIR': '../../data'})"
      ]
     },
     "execution_count": 4,
     "metadata": {},
     "output_type": "execute_result"
    }
   ],
   "source": [
    "hyperparams = miscutils.load_hyperparameters(\"../bts/swinunetr/hyperparameters.yaml\")\n",
    "hyperparams"
   ]
  },
  {
   "cell_type": "code",
   "execution_count": 5,
   "id": "5dec3b7c",
   "metadata": {},
   "outputs": [],
   "source": [
    "hyperparams.BATCH_SIZE = 2"
   ]
  },
  {
   "cell_type": "code",
   "execution_count": 6,
   "id": "96066bc6",
   "metadata": {},
   "outputs": [
    {
     "name": "stderr",
     "output_type": "stream",
     "text": [
      "[:home:vedatb:senior-project:bbm47980_bts:.venv:lib:python3.9:site-packages:model.py:set_cudnn_benchmark:45] Enabling cuDNN benchmark.\n"
     ]
    }
   ],
   "source": [
    "smodel.set_cudnn_benchmark()"
   ]
  },
  {
   "cell_type": "code",
   "execution_count": 7,
   "id": "6db0d098",
   "metadata": {},
   "outputs": [
    {
     "name": "stderr",
     "output_type": "stream",
     "text": [
      "[:home:vedatb:senior-project:bbm47980_bts:.venv:lib:python3.9:site-packages:model.py:get_model:38] SwinUNETR model created.\n"
     ]
    }
   ],
   "source": [
    "model = smodel.get_model(\n",
    "    img_size=hyperparams.ROI,\n",
    "    in_channels=hyperparams.IN_CHANNELS,\n",
    "    out_channels=hyperparams.OUT_CHANNELS,\n",
    "    feature_size=hyperparams.FEATURE_SIZE,\n",
    "    use_checkpoint=hyperparams.GRADIENT_CHECKPOINT,\n",
    ")"
   ]
  },
  {
   "cell_type": "code",
   "execution_count": 8,
   "id": "20df365f",
   "metadata": {},
   "outputs": [],
   "source": [
    "import os\n",
    "\n",
    "os.environ[\"CUDA_DEVICE_ORDER\"] = \"PCI_BUS_ID\""
   ]
  },
  {
   "cell_type": "code",
   "execution_count": 9,
   "id": "7849808b",
   "metadata": {},
   "outputs": [],
   "source": [
    "model = torch.nn.DataParallel(model)"
   ]
  },
  {
   "cell_type": "code",
   "execution_count": 10,
   "id": "1277b3c8",
   "metadata": {},
   "outputs": [],
   "source": [
    "dice_loss = DiceLoss(to_onehot_y=False, sigmoid=True)"
   ]
  },
  {
   "cell_type": "code",
   "execution_count": 11,
   "id": "4e404f1c",
   "metadata": {},
   "outputs": [],
   "source": [
    "optimizer = torch.optim.AdamW(\n",
    "    model.parameters(),\n",
    "    lr=hyperparams.LEARNING_RATE,\n",
    "    weight_decay=hyperparams.WEIGHT_DECAY,\n",
    ")"
   ]
  },
  {
   "cell_type": "code",
   "execution_count": 12,
   "id": "c10445a7",
   "metadata": {},
   "outputs": [],
   "source": [
    "scheduler = torch.optim.lr_scheduler.CosineAnnealingLR(\n",
    "    optimizer, T_max=hyperparams.EPOCHS\n",
    ")"
   ]
  },
  {
   "cell_type": "code",
   "execution_count": 13,
   "id": "2ee7549a",
   "metadata": {},
   "outputs": [],
   "source": [
    "train_dataset = get_train_dataset(\"../../data/btsed_dataset\")\n",
    "train_loader = DataLoader(train_dataset, batch_size=hyperparams.BATCH_SIZE)\n",
    "\n",
    "val_dataset = get_val_dataset(\"../../data/btsed_dataset\")\n",
    "val_loader = DataLoader(val_dataset, batch_size=hyperparams.BATCH_SIZE)"
   ]
  },
  {
   "cell_type": "code",
   "execution_count": 14,
   "id": "fb2f31de",
   "metadata": {},
   "outputs": [],
   "source": [
    "data_paths = [\n",
    "    {\n",
    "        'img': '/home/vedatb/senior-project/data/btsed_dataset/0/image.nrrd',\n",
    "        'label': '/home/vedatb/senior-project/data/btsed_dataset/0/label.nrrd',\n",
    "        'info': '/home/vedatb/senior-project/data/btsed_dataset/0/info.json',\n",
    "    },\n",
    "    {\n",
    "        'img': '/home/vedatb/senior-project/data/btsed_dataset/1/image.nrrd',\n",
    "        'label': '/home/vedatb/senior-project/data/btsed_dataset/1/label.nrrd',\n",
    "        'info': '/home/vedatb/senior-project/data/btsed_dataset/1/info.json',\n",
    "    }\n",
    "]"
   ]
  },
  {
   "cell_type": "code",
   "execution_count": 15,
   "id": "719e405f",
   "metadata": {},
   "outputs": [],
   "source": [
    "from monai.transforms import (\n",
    "    Compose,\n",
    "    LoadImaged,\n",
    "    MapTransform,\n",
    "    NormalizeIntensityd,\n",
    "    Transform,\n",
    "    RandSpatialCropd,\n",
    "    RandFlipd,\n",
    ")\n",
    "\n",
    "from bts.data import ConvertToMultiChannelBasedOnEchidnaClassesd, JsonTransform\n",
    "from bts.data.utils import UnsqueezeDatad\n",
    "\n",
    "from torch.utils.data import DataLoader\n",
    "\n",
    "import monai"
   ]
  },
  {
   "cell_type": "code",
   "execution_count": 16,
   "id": "b9ab0ef9",
   "metadata": {},
   "outputs": [],
   "source": [
    "def collate_fn(batch):\n",
    "    elem = batch[0]\n",
    "    coll = {}\n",
    "    \n",
    "    for key in elem:\n",
    "        if key in [\"img\", \"label\"]:\n",
    "            data_for_batch = tuple(torch.as_tensor(d[key]) for d in batch)\n",
    "            coll[key] = torch.stack(data_for_batch, dim=0)\n",
    "        else:\n",
    "            coll[key] = torch.stack(data_for_batch, dim=0)\n",
    "    \n",
    "    return coll"
   ]
  },
  {
   "cell_type": "code",
   "execution_count": 17,
   "id": "221f0a81",
   "metadata": {},
   "outputs": [],
   "source": [
    "transforms = Compose([\n",
    "                LoadImaged([\"img\", \"label\"], reader=\"NrrdReader\"),\n",
    "                UnsqueezeDatad([\"img\"]),\n",
    "                ConvertToMultiChannelBasedOnEchidnaClassesd([\"label\"]),\n",
    "                JsonTransform([\"info\"]),\n",
    "                RandSpatialCropd(\n",
    "                     keys=[\"img\", \"label\"],\n",
    "                     roi_size=[128, 128, 128],\n",
    "                     random_size=False,\n",
    "                ),\n",
    "                RandFlipd(keys=[\"img\", \"label\"], prob=0.5, spatial_axis=0),\n",
    "                RandFlipd(keys=[\"img\", \"label\"], prob=0.5, spatial_axis=1),\n",
    "                RandFlipd(keys=[\"img\", \"label\"], prob=0.5, spatial_axis=2),\n",
    "                NormalizeIntensityd(keys=\"img\", nonzero=True, channel_wise=True),\n",
    "            ])\n",
    "\n",
    "data_set = monai.data.Dataset(data=data_paths, transform=transforms)\n",
    "data_loader = DataLoader(data_set, batch_size=2,collate_fn=collate_fn)"
   ]
  },
  {
   "cell_type": "code",
   "execution_count": 18,
   "id": "a9604640",
   "metadata": {},
   "outputs": [
    {
     "ename": "RuntimeError",
     "evalue": "applying transform <monai.transforms.compose.Compose object at 0x7f3a1c741ac0>",
     "output_type": "error",
     "traceback": [
      "\u001b[0;31m---------------------------------------------------------------------------\u001b[0m",
      "\u001b[0;31mAttributeError\u001b[0m                            Traceback (most recent call last)",
      "File \u001b[0;32m~/senior-project/bbm47980_bts/.venv/lib/python3.9/site-packages/monai/transforms/transform.py:102\u001b[0m, in \u001b[0;36mapply_transform\u001b[0;34m(transform, data, map_items, unpack_items, log_stats)\u001b[0m\n\u001b[1;32m    101\u001b[0m         \u001b[38;5;28;01mreturn\u001b[39;00m [_apply_transform(transform, item, unpack_items) \u001b[38;5;28;01mfor\u001b[39;00m item \u001b[38;5;129;01min\u001b[39;00m data]\n\u001b[0;32m--> 102\u001b[0m     \u001b[38;5;28;01mreturn\u001b[39;00m \u001b[43m_apply_transform\u001b[49m\u001b[43m(\u001b[49m\u001b[43mtransform\u001b[49m\u001b[43m,\u001b[49m\u001b[43m \u001b[49m\u001b[43mdata\u001b[49m\u001b[43m,\u001b[49m\u001b[43m \u001b[49m\u001b[43munpack_items\u001b[49m\u001b[43m)\u001b[49m\n\u001b[1;32m    103\u001b[0m \u001b[38;5;28;01mexcept\u001b[39;00m \u001b[38;5;167;01mException\u001b[39;00m \u001b[38;5;28;01mas\u001b[39;00m e:\n\u001b[1;32m    104\u001b[0m     \u001b[38;5;66;03m# if in debug mode, don't swallow exception so that the breakpoint\u001b[39;00m\n\u001b[1;32m    105\u001b[0m     \u001b[38;5;66;03m# appears where the exception was raised.\u001b[39;00m\n",
      "File \u001b[0;32m~/senior-project/bbm47980_bts/.venv/lib/python3.9/site-packages/monai/transforms/transform.py:66\u001b[0m, in \u001b[0;36m_apply_transform\u001b[0;34m(transform, parameters, unpack_parameters)\u001b[0m\n\u001b[1;32m     64\u001b[0m     \u001b[38;5;28;01mreturn\u001b[39;00m transform(\u001b[38;5;241m*\u001b[39mparameters)\n\u001b[0;32m---> 66\u001b[0m \u001b[38;5;28;01mreturn\u001b[39;00m \u001b[43mtransform\u001b[49m\u001b[43m(\u001b[49m\u001b[43mparameters\u001b[49m\u001b[43m)\u001b[49m\n",
      "File \u001b[0;32m~/senior-project/bbm47980_bts/.venv/lib/python3.9/site-packages/monai/transforms/io/dictionary.py:154\u001b[0m, in \u001b[0;36mLoadImaged.__call__\u001b[0;34m(self, data, reader)\u001b[0m\n\u001b[1;32m    153\u001b[0m \u001b[38;5;28;01mfor\u001b[39;00m key, meta_key, meta_key_postfix \u001b[38;5;129;01min\u001b[39;00m \u001b[38;5;28mself\u001b[39m\u001b[38;5;241m.\u001b[39mkey_iterator(d, \u001b[38;5;28mself\u001b[39m\u001b[38;5;241m.\u001b[39mmeta_keys, \u001b[38;5;28mself\u001b[39m\u001b[38;5;241m.\u001b[39mmeta_key_postfix):\n\u001b[0;32m--> 154\u001b[0m     data \u001b[38;5;241m=\u001b[39m \u001b[38;5;28;43mself\u001b[39;49m\u001b[38;5;241;43m.\u001b[39;49m\u001b[43m_loader\u001b[49m\u001b[43m(\u001b[49m\u001b[43md\u001b[49m\u001b[43m[\u001b[49m\u001b[43mkey\u001b[49m\u001b[43m]\u001b[49m\u001b[43m,\u001b[49m\u001b[43m \u001b[49m\u001b[43mreader\u001b[49m\u001b[43m)\u001b[49m\n\u001b[1;32m    155\u001b[0m     \u001b[38;5;28;01mif\u001b[39;00m \u001b[38;5;28mself\u001b[39m\u001b[38;5;241m.\u001b[39m_loader\u001b[38;5;241m.\u001b[39mimage_only:\n",
      "File \u001b[0;32m~/senior-project/bbm47980_bts/.venv/lib/python3.9/site-packages/monai/transforms/io/array.py:275\u001b[0m, in \u001b[0;36mLoadImage.__call__\u001b[0;34m(self, filename, reader)\u001b[0m\n\u001b[1;32m    274\u001b[0m img_array, meta_data \u001b[38;5;241m=\u001b[39m reader\u001b[38;5;241m.\u001b[39mget_data(img)\n\u001b[0;32m--> 275\u001b[0m img_array \u001b[38;5;241m=\u001b[39m \u001b[43mconvert_to_dst_type\u001b[49m\u001b[43m(\u001b[49m\u001b[43mimg_array\u001b[49m\u001b[43m,\u001b[49m\u001b[43m \u001b[49m\u001b[43mdst\u001b[49m\u001b[38;5;241;43m=\u001b[39;49m\u001b[43mimg_array\u001b[49m\u001b[43m,\u001b[49m\u001b[43m \u001b[49m\u001b[43mdtype\u001b[49m\u001b[38;5;241;43m=\u001b[39;49m\u001b[38;5;28;43mself\u001b[39;49m\u001b[38;5;241;43m.\u001b[39;49m\u001b[43mdtype\u001b[49m\u001b[43m)\u001b[49m[\u001b[38;5;241m0\u001b[39m]\n\u001b[1;32m    276\u001b[0m \u001b[38;5;28;01mif\u001b[39;00m \u001b[38;5;129;01mnot\u001b[39;00m \u001b[38;5;28misinstance\u001b[39m(meta_data, \u001b[38;5;28mdict\u001b[39m):\n",
      "File \u001b[0;32m~/senior-project/bbm47980_bts/.venv/lib/python3.9/site-packages/monai/utils/type_conversion.py:359\u001b[0m, in \u001b[0;36mconvert_to_dst_type\u001b[0;34m(src, dst, dtype, wrap_sequence, device, safe)\u001b[0m\n\u001b[1;32m    358\u001b[0m output_type: Any\n\u001b[0;32m--> 359\u001b[0m \u001b[38;5;28;01mif\u001b[39;00m \u001b[38;5;28misinstance\u001b[39m(dst, \u001b[43mmonai\u001b[49m\u001b[38;5;241;43m.\u001b[39;49m\u001b[43mdata\u001b[49m\u001b[38;5;241m.\u001b[39mMetaTensor):\n\u001b[1;32m    360\u001b[0m     output_type \u001b[38;5;241m=\u001b[39m monai\u001b[38;5;241m.\u001b[39mdata\u001b[38;5;241m.\u001b[39mMetaTensor\n",
      "\u001b[0;31mAttributeError\u001b[0m: module 'monai' has no attribute 'data'",
      "\nThe above exception was the direct cause of the following exception:\n",
      "\u001b[0;31mRuntimeError\u001b[0m                              Traceback (most recent call last)",
      "File \u001b[0;32m~/senior-project/bbm47980_bts/.venv/lib/python3.9/site-packages/monai/transforms/transform.py:102\u001b[0m, in \u001b[0;36mapply_transform\u001b[0;34m(transform, data, map_items, unpack_items, log_stats)\u001b[0m\n\u001b[1;32m    101\u001b[0m         \u001b[38;5;28;01mreturn\u001b[39;00m [_apply_transform(transform, item, unpack_items) \u001b[38;5;28;01mfor\u001b[39;00m item \u001b[38;5;129;01min\u001b[39;00m data]\n\u001b[0;32m--> 102\u001b[0m     \u001b[38;5;28;01mreturn\u001b[39;00m \u001b[43m_apply_transform\u001b[49m\u001b[43m(\u001b[49m\u001b[43mtransform\u001b[49m\u001b[43m,\u001b[49m\u001b[43m \u001b[49m\u001b[43mdata\u001b[49m\u001b[43m,\u001b[49m\u001b[43m \u001b[49m\u001b[43munpack_items\u001b[49m\u001b[43m)\u001b[49m\n\u001b[1;32m    103\u001b[0m \u001b[38;5;28;01mexcept\u001b[39;00m \u001b[38;5;167;01mException\u001b[39;00m \u001b[38;5;28;01mas\u001b[39;00m e:\n\u001b[1;32m    104\u001b[0m     \u001b[38;5;66;03m# if in debug mode, don't swallow exception so that the breakpoint\u001b[39;00m\n\u001b[1;32m    105\u001b[0m     \u001b[38;5;66;03m# appears where the exception was raised.\u001b[39;00m\n",
      "File \u001b[0;32m~/senior-project/bbm47980_bts/.venv/lib/python3.9/site-packages/monai/transforms/transform.py:66\u001b[0m, in \u001b[0;36m_apply_transform\u001b[0;34m(transform, parameters, unpack_parameters)\u001b[0m\n\u001b[1;32m     64\u001b[0m     \u001b[38;5;28;01mreturn\u001b[39;00m transform(\u001b[38;5;241m*\u001b[39mparameters)\n\u001b[0;32m---> 66\u001b[0m \u001b[38;5;28;01mreturn\u001b[39;00m \u001b[43mtransform\u001b[49m\u001b[43m(\u001b[49m\u001b[43mparameters\u001b[49m\u001b[43m)\u001b[49m\n",
      "File \u001b[0;32m~/senior-project/bbm47980_bts/.venv/lib/python3.9/site-packages/monai/transforms/compose.py:174\u001b[0m, in \u001b[0;36mCompose.__call__\u001b[0;34m(self, input_)\u001b[0m\n\u001b[1;32m    173\u001b[0m \u001b[38;5;28;01mfor\u001b[39;00m _transform \u001b[38;5;129;01min\u001b[39;00m \u001b[38;5;28mself\u001b[39m\u001b[38;5;241m.\u001b[39mtransforms:\n\u001b[0;32m--> 174\u001b[0m     input_ \u001b[38;5;241m=\u001b[39m \u001b[43mapply_transform\u001b[49m\u001b[43m(\u001b[49m\u001b[43m_transform\u001b[49m\u001b[43m,\u001b[49m\u001b[43m \u001b[49m\u001b[43minput_\u001b[49m\u001b[43m,\u001b[49m\u001b[43m \u001b[49m\u001b[38;5;28;43mself\u001b[39;49m\u001b[38;5;241;43m.\u001b[39;49m\u001b[43mmap_items\u001b[49m\u001b[43m,\u001b[49m\u001b[43m \u001b[49m\u001b[38;5;28;43mself\u001b[39;49m\u001b[38;5;241;43m.\u001b[39;49m\u001b[43munpack_items\u001b[49m\u001b[43m,\u001b[49m\u001b[43m \u001b[49m\u001b[38;5;28;43mself\u001b[39;49m\u001b[38;5;241;43m.\u001b[39;49m\u001b[43mlog_stats\u001b[49m\u001b[43m)\u001b[49m\n\u001b[1;32m    175\u001b[0m \u001b[38;5;28;01mreturn\u001b[39;00m input_\n",
      "File \u001b[0;32m~/senior-project/bbm47980_bts/.venv/lib/python3.9/site-packages/monai/transforms/transform.py:129\u001b[0m, in \u001b[0;36mapply_transform\u001b[0;34m(transform, data, map_items, unpack_items, log_stats)\u001b[0m\n\u001b[1;32m    128\u001b[0m         _log_stats(data\u001b[38;5;241m=\u001b[39mdata)\n\u001b[0;32m--> 129\u001b[0m \u001b[38;5;28;01mraise\u001b[39;00m \u001b[38;5;167;01mRuntimeError\u001b[39;00m(\u001b[38;5;124mf\u001b[39m\u001b[38;5;124m\"\u001b[39m\u001b[38;5;124mapplying transform \u001b[39m\u001b[38;5;132;01m{\u001b[39;00mtransform\u001b[38;5;132;01m}\u001b[39;00m\u001b[38;5;124m\"\u001b[39m) \u001b[38;5;28;01mfrom\u001b[39;00m \u001b[38;5;21;01me\u001b[39;00m\n",
      "\u001b[0;31mRuntimeError\u001b[0m: applying transform <monai.transforms.io.dictionary.LoadImaged object at 0x7f3a1c742760>",
      "\nThe above exception was the direct cause of the following exception:\n",
      "\u001b[0;31mRuntimeError\u001b[0m                              Traceback (most recent call last)",
      "Cell \u001b[0;32mIn[18], line 1\u001b[0m\n\u001b[0;32m----> 1\u001b[0m sample \u001b[38;5;241m=\u001b[39m \u001b[38;5;28;43mnext\u001b[39;49m\u001b[43m(\u001b[49m\u001b[38;5;28;43miter\u001b[39;49m\u001b[43m(\u001b[49m\u001b[43mdata_loader\u001b[49m\u001b[43m)\u001b[49m\u001b[43m)\u001b[49m\n",
      "File \u001b[0;32m~/senior-project/bbm47980_bts/.venv/lib/python3.9/site-packages/torch/utils/data/dataloader.py:634\u001b[0m, in \u001b[0;36m_BaseDataLoaderIter.__next__\u001b[0;34m(self)\u001b[0m\n\u001b[1;32m    631\u001b[0m \u001b[38;5;28;01mif\u001b[39;00m \u001b[38;5;28mself\u001b[39m\u001b[38;5;241m.\u001b[39m_sampler_iter \u001b[38;5;129;01mis\u001b[39;00m \u001b[38;5;28;01mNone\u001b[39;00m:\n\u001b[1;32m    632\u001b[0m     \u001b[38;5;66;03m# TODO(https://github.com/pytorch/pytorch/issues/76750)\u001b[39;00m\n\u001b[1;32m    633\u001b[0m     \u001b[38;5;28mself\u001b[39m\u001b[38;5;241m.\u001b[39m_reset()  \u001b[38;5;66;03m# type: ignore[call-arg]\u001b[39;00m\n\u001b[0;32m--> 634\u001b[0m data \u001b[38;5;241m=\u001b[39m \u001b[38;5;28;43mself\u001b[39;49m\u001b[38;5;241;43m.\u001b[39;49m\u001b[43m_next_data\u001b[49m\u001b[43m(\u001b[49m\u001b[43m)\u001b[49m\n\u001b[1;32m    635\u001b[0m \u001b[38;5;28mself\u001b[39m\u001b[38;5;241m.\u001b[39m_num_yielded \u001b[38;5;241m+\u001b[39m\u001b[38;5;241m=\u001b[39m \u001b[38;5;241m1\u001b[39m\n\u001b[1;32m    636\u001b[0m \u001b[38;5;28;01mif\u001b[39;00m \u001b[38;5;28mself\u001b[39m\u001b[38;5;241m.\u001b[39m_dataset_kind \u001b[38;5;241m==\u001b[39m _DatasetKind\u001b[38;5;241m.\u001b[39mIterable \u001b[38;5;129;01mand\u001b[39;00m \\\n\u001b[1;32m    637\u001b[0m         \u001b[38;5;28mself\u001b[39m\u001b[38;5;241m.\u001b[39m_IterableDataset_len_called \u001b[38;5;129;01mis\u001b[39;00m \u001b[38;5;129;01mnot\u001b[39;00m \u001b[38;5;28;01mNone\u001b[39;00m \u001b[38;5;129;01mand\u001b[39;00m \\\n\u001b[1;32m    638\u001b[0m         \u001b[38;5;28mself\u001b[39m\u001b[38;5;241m.\u001b[39m_num_yielded \u001b[38;5;241m>\u001b[39m \u001b[38;5;28mself\u001b[39m\u001b[38;5;241m.\u001b[39m_IterableDataset_len_called:\n",
      "File \u001b[0;32m~/senior-project/bbm47980_bts/.venv/lib/python3.9/site-packages/torch/utils/data/dataloader.py:678\u001b[0m, in \u001b[0;36m_SingleProcessDataLoaderIter._next_data\u001b[0;34m(self)\u001b[0m\n\u001b[1;32m    676\u001b[0m \u001b[38;5;28;01mdef\u001b[39;00m \u001b[38;5;21m_next_data\u001b[39m(\u001b[38;5;28mself\u001b[39m):\n\u001b[1;32m    677\u001b[0m     index \u001b[38;5;241m=\u001b[39m \u001b[38;5;28mself\u001b[39m\u001b[38;5;241m.\u001b[39m_next_index()  \u001b[38;5;66;03m# may raise StopIteration\u001b[39;00m\n\u001b[0;32m--> 678\u001b[0m     data \u001b[38;5;241m=\u001b[39m \u001b[38;5;28;43mself\u001b[39;49m\u001b[38;5;241;43m.\u001b[39;49m\u001b[43m_dataset_fetcher\u001b[49m\u001b[38;5;241;43m.\u001b[39;49m\u001b[43mfetch\u001b[49m\u001b[43m(\u001b[49m\u001b[43mindex\u001b[49m\u001b[43m)\u001b[49m  \u001b[38;5;66;03m# may raise StopIteration\u001b[39;00m\n\u001b[1;32m    679\u001b[0m     \u001b[38;5;28;01mif\u001b[39;00m \u001b[38;5;28mself\u001b[39m\u001b[38;5;241m.\u001b[39m_pin_memory:\n\u001b[1;32m    680\u001b[0m         data \u001b[38;5;241m=\u001b[39m _utils\u001b[38;5;241m.\u001b[39mpin_memory\u001b[38;5;241m.\u001b[39mpin_memory(data, \u001b[38;5;28mself\u001b[39m\u001b[38;5;241m.\u001b[39m_pin_memory_device)\n",
      "File \u001b[0;32m~/senior-project/bbm47980_bts/.venv/lib/python3.9/site-packages/torch/utils/data/_utils/fetch.py:51\u001b[0m, in \u001b[0;36m_MapDatasetFetcher.fetch\u001b[0;34m(self, possibly_batched_index)\u001b[0m\n\u001b[1;32m     49\u001b[0m         data \u001b[38;5;241m=\u001b[39m \u001b[38;5;28mself\u001b[39m\u001b[38;5;241m.\u001b[39mdataset\u001b[38;5;241m.\u001b[39m__getitems__(possibly_batched_index)\n\u001b[1;32m     50\u001b[0m     \u001b[38;5;28;01melse\u001b[39;00m:\n\u001b[0;32m---> 51\u001b[0m         data \u001b[38;5;241m=\u001b[39m [\u001b[38;5;28mself\u001b[39m\u001b[38;5;241m.\u001b[39mdataset[idx] \u001b[38;5;28;01mfor\u001b[39;00m idx \u001b[38;5;129;01min\u001b[39;00m possibly_batched_index]\n\u001b[1;32m     52\u001b[0m \u001b[38;5;28;01melse\u001b[39;00m:\n\u001b[1;32m     53\u001b[0m     data \u001b[38;5;241m=\u001b[39m \u001b[38;5;28mself\u001b[39m\u001b[38;5;241m.\u001b[39mdataset[possibly_batched_index]\n",
      "File \u001b[0;32m~/senior-project/bbm47980_bts/.venv/lib/python3.9/site-packages/torch/utils/data/_utils/fetch.py:51\u001b[0m, in \u001b[0;36m<listcomp>\u001b[0;34m(.0)\u001b[0m\n\u001b[1;32m     49\u001b[0m         data \u001b[38;5;241m=\u001b[39m \u001b[38;5;28mself\u001b[39m\u001b[38;5;241m.\u001b[39mdataset\u001b[38;5;241m.\u001b[39m__getitems__(possibly_batched_index)\n\u001b[1;32m     50\u001b[0m     \u001b[38;5;28;01melse\u001b[39;00m:\n\u001b[0;32m---> 51\u001b[0m         data \u001b[38;5;241m=\u001b[39m [\u001b[38;5;28;43mself\u001b[39;49m\u001b[38;5;241;43m.\u001b[39;49m\u001b[43mdataset\u001b[49m\u001b[43m[\u001b[49m\u001b[43midx\u001b[49m\u001b[43m]\u001b[49m \u001b[38;5;28;01mfor\u001b[39;00m idx \u001b[38;5;129;01min\u001b[39;00m possibly_batched_index]\n\u001b[1;32m     52\u001b[0m \u001b[38;5;28;01melse\u001b[39;00m:\n\u001b[1;32m     53\u001b[0m     data \u001b[38;5;241m=\u001b[39m \u001b[38;5;28mself\u001b[39m\u001b[38;5;241m.\u001b[39mdataset[possibly_batched_index]\n",
      "File \u001b[0;32m~/senior-project/bbm47980_bts/.venv/lib/python3.9/site-packages/monai/data/dataset.py:107\u001b[0m, in \u001b[0;36mDataset.__getitem__\u001b[0;34m(self, index)\u001b[0m\n\u001b[1;32m    104\u001b[0m \u001b[38;5;28;01mif\u001b[39;00m \u001b[38;5;28misinstance\u001b[39m(index, collections\u001b[38;5;241m.\u001b[39mabc\u001b[38;5;241m.\u001b[39mSequence):\n\u001b[1;32m    105\u001b[0m     \u001b[38;5;66;03m# dataset[[1, 3, 4]]\u001b[39;00m\n\u001b[1;32m    106\u001b[0m     \u001b[38;5;28;01mreturn\u001b[39;00m Subset(dataset\u001b[38;5;241m=\u001b[39m\u001b[38;5;28mself\u001b[39m, indices\u001b[38;5;241m=\u001b[39mindex)\n\u001b[0;32m--> 107\u001b[0m \u001b[38;5;28;01mreturn\u001b[39;00m \u001b[38;5;28;43mself\u001b[39;49m\u001b[38;5;241;43m.\u001b[39;49m\u001b[43m_transform\u001b[49m\u001b[43m(\u001b[49m\u001b[43mindex\u001b[49m\u001b[43m)\u001b[49m\n",
      "File \u001b[0;32m~/senior-project/bbm47980_bts/.venv/lib/python3.9/site-packages/monai/data/dataset.py:93\u001b[0m, in \u001b[0;36mDataset._transform\u001b[0;34m(self, index)\u001b[0m\n\u001b[1;32m     89\u001b[0m \u001b[38;5;250m\u001b[39m\u001b[38;5;124;03m\"\"\"\u001b[39;00m\n\u001b[1;32m     90\u001b[0m \u001b[38;5;124;03mFetch single data item from `self.data`.\u001b[39;00m\n\u001b[1;32m     91\u001b[0m \u001b[38;5;124;03m\"\"\"\u001b[39;00m\n\u001b[1;32m     92\u001b[0m data_i \u001b[38;5;241m=\u001b[39m \u001b[38;5;28mself\u001b[39m\u001b[38;5;241m.\u001b[39mdata[index]\n\u001b[0;32m---> 93\u001b[0m \u001b[38;5;28;01mreturn\u001b[39;00m \u001b[43mapply_transform\u001b[49m\u001b[43m(\u001b[49m\u001b[38;5;28;43mself\u001b[39;49m\u001b[38;5;241;43m.\u001b[39;49m\u001b[43mtransform\u001b[49m\u001b[43m,\u001b[49m\u001b[43m \u001b[49m\u001b[43mdata_i\u001b[49m\u001b[43m)\u001b[49m \u001b[38;5;28;01mif\u001b[39;00m \u001b[38;5;28mself\u001b[39m\u001b[38;5;241m.\u001b[39mtransform \u001b[38;5;129;01mis\u001b[39;00m \u001b[38;5;129;01mnot\u001b[39;00m \u001b[38;5;28;01mNone\u001b[39;00m \u001b[38;5;28;01melse\u001b[39;00m data_i\n",
      "File \u001b[0;32m~/senior-project/bbm47980_bts/.venv/lib/python3.9/site-packages/monai/transforms/transform.py:129\u001b[0m, in \u001b[0;36mapply_transform\u001b[0;34m(transform, data, map_items, unpack_items, log_stats)\u001b[0m\n\u001b[1;32m    127\u001b[0m     \u001b[38;5;28;01melse\u001b[39;00m:\n\u001b[1;32m    128\u001b[0m         _log_stats(data\u001b[38;5;241m=\u001b[39mdata)\n\u001b[0;32m--> 129\u001b[0m \u001b[38;5;28;01mraise\u001b[39;00m \u001b[38;5;167;01mRuntimeError\u001b[39;00m(\u001b[38;5;124mf\u001b[39m\u001b[38;5;124m\"\u001b[39m\u001b[38;5;124mapplying transform \u001b[39m\u001b[38;5;132;01m{\u001b[39;00mtransform\u001b[38;5;132;01m}\u001b[39;00m\u001b[38;5;124m\"\u001b[39m) \u001b[38;5;28;01mfrom\u001b[39;00m \u001b[38;5;21;01me\u001b[39;00m\n",
      "\u001b[0;31mRuntimeError\u001b[0m: applying transform <monai.transforms.compose.Compose object at 0x7f3a1c741ac0>"
     ]
    }
   ],
   "source": [
    "sample = next(iter(data_loader))"
   ]
  },
  {
   "cell_type": "code",
   "execution_count": null,
   "id": "0f2d10e9",
   "metadata": {},
   "outputs": [],
   "source": [
    "sample[\"img\"].shape"
   ]
  },
  {
   "cell_type": "code",
   "execution_count": null,
   "id": "5b298f1b",
   "metadata": {},
   "outputs": [],
   "source": [
    "sample[\"label\"].shape"
   ]
  },
  {
   "cell_type": "code",
   "execution_count": null,
   "id": "ea490c23",
   "metadata": {},
   "outputs": [],
   "source": [
    "import matplotlib.pyplot as plt\n",
    "\n",
    "slice_nums = [50, 100]\n",
    "\n",
    "img = sample[\"img\"][0][0]\n",
    "\n",
    "label = (\n",
    "    (sample[\"label\"][0][0] == 1) * hyperparams.LABELS.BRAIN +\n",
    "    (sample[\"label\"][0][1] == 1) * hyperparams.LABELS.TUMOR\n",
    ")\n",
    "\n",
    "print(f\"image shape: {img.shape}, label shape: {label.shape}\")\n",
    "fig, axs = plt.subplots(2, 2, figsize=(9, 9))\n",
    "\n",
    "slice_num = slice_nums[0]\n",
    "axs[0, 0].set_title(f\"image: {slice_num}\")\n",
    "axs[0, 0].imshow(img[:, :, slice_num], cmap=\"gray\")\n",
    "\n",
    "axs[0, 1].set_title(f\"label: {slice_num}\")\n",
    "axs[0, 1].imshow(label[:, :, slice_num])\n",
    "\n",
    "slice_num = slice_nums[1]\n",
    "axs[1, 0].set_title(f\"image: {slice_num}\")\n",
    "axs[1, 0].imshow(img[:, :, slice_num], cmap=\"gray\")\n",
    "\n",
    "\n",
    "axs[1, 1].set_title(f\"label: {slice_num}\")\n",
    "axs[1, 1].imshow(label[:, :, slice_num])\n",
    "\n",
    "fig.tight_layout()\n",
    "plt.show()"
   ]
  },
  {
   "cell_type": "code",
   "execution_count": null,
   "id": "60de96ae",
   "metadata": {},
   "outputs": [],
   "source": [
    "device = \"cuda\" if torch.cuda.is_available() else \"cpu\"\n",
    "device = torch.device(device)"
   ]
  },
  {
   "cell_type": "code",
   "execution_count": null,
   "id": "af375962",
   "metadata": {},
   "outputs": [],
   "source": [
    "model = model.to(device)\n",
    "model = model.train()"
   ]
  },
  {
   "cell_type": "code",
   "execution_count": null,
   "id": "2a322ce4",
   "metadata": {},
   "outputs": [],
   "source": [
    "train_loss = miscutils.AverageMeter()"
   ]
  },
  {
   "cell_type": "code",
   "execution_count": null,
   "id": "ba4b587c",
   "metadata": {},
   "outputs": [],
   "source": [
    "image = sample[\"img\"].to(\"cuda\")\n",
    "print(image.shape)\n",
    "\n",
    "label = sample[\"label\"].to(\"cuda\")\n",
    "print(label.shape)"
   ]
  },
  {
   "cell_type": "code",
   "execution_count": null,
   "id": "a4c35feb",
   "metadata": {},
   "outputs": [],
   "source": [
    "optimizer.zero_grad()"
   ]
  },
  {
   "cell_type": "code",
   "execution_count": null,
   "id": "0fa2b1bf",
   "metadata": {},
   "outputs": [],
   "source": [
    "logits = model(image)"
   ]
  },
  {
   "cell_type": "code",
   "execution_count": null,
   "id": "39b3246c",
   "metadata": {},
   "outputs": [],
   "source": [
    "logits.shape"
   ]
  },
  {
   "cell_type": "code",
   "execution_count": null,
   "id": "9e84234e",
   "metadata": {},
   "outputs": [],
   "source": [
    "sample[\"label\"].shape"
   ]
  },
  {
   "cell_type": "code",
   "execution_count": null,
   "id": "1876b24a",
   "metadata": {},
   "outputs": [],
   "source": [
    "loss: torch.Tensor = dice_loss(logits, label)"
   ]
  },
  {
   "cell_type": "code",
   "execution_count": null,
   "id": "f25e2600",
   "metadata": {},
   "outputs": [],
   "source": [
    "loss"
   ]
  },
  {
   "cell_type": "code",
   "execution_count": null,
   "id": "39f5ab35",
   "metadata": {},
   "outputs": [],
   "source": [
    "post_pred = AsDiscrete(threshold=0.5, dtype=\"bool\")\n",
    "post_sigmoid = Activations(sigmoid=True)"
   ]
  },
  {
   "cell_type": "code",
   "execution_count": null,
   "id": "0c479e2a",
   "metadata": {},
   "outputs": [],
   "source": [
    "with torch.no_grad():\n",
    "    sig = post_pred(post_sigmoid(logits))"
   ]
  },
  {
   "cell_type": "code",
   "execution_count": null,
   "id": "9cabb088",
   "metadata": {},
   "outputs": [],
   "source": [
    "from monai.utils.enums import MetricReduction\n",
    "\n",
    "dice_acc = DiceMetric(include_background=True, reduction=MetricReduction.MEAN_BATCH, get_not_nans=True)"
   ]
  },
  {
   "cell_type": "code",
   "execution_count": null,
   "id": "e2eccbab",
   "metadata": {},
   "outputs": [],
   "source": [
    "dice_acc.reset()\n",
    "acc_out = dice_acc(y=sample[\"label\"].to(device), y_pred=sig)"
   ]
  },
  {
   "cell_type": "code",
   "execution_count": null,
   "id": "0723d4ce",
   "metadata": {},
   "outputs": [],
   "source": [
    "acc_out"
   ]
  },
  {
   "cell_type": "code",
   "execution_count": null,
   "id": "c91ed9d5",
   "metadata": {},
   "outputs": [],
   "source": [
    "from monai.data import decollate_batch"
   ]
  },
  {
   "cell_type": "code",
   "execution_count": null,
   "id": "475aec56",
   "metadata": {},
   "outputs": [],
   "source": [
    "acc, not_nans = dice_acc.aggregate()"
   ]
  },
  {
   "cell_type": "code",
   "execution_count": null,
   "id": "654648e9",
   "metadata": {},
   "outputs": [],
   "source": [
    "acc, not_nans"
   ]
  },
  {
   "cell_type": "code",
   "execution_count": null,
   "id": "0a425958",
   "metadata": {},
   "outputs": [],
   "source": [
    "run_acc = miscutils.AverageMeter()"
   ]
  },
  {
   "cell_type": "code",
   "execution_count": null,
   "id": "810f4b39",
   "metadata": {},
   "outputs": [],
   "source": [
    "run_acc.update(acc.cpu().numpy(), n=not_nans.cpu().numpy())"
   ]
  },
  {
   "cell_type": "code",
   "execution_count": null,
   "id": "a470d42f",
   "metadata": {},
   "outputs": [],
   "source": [
    "run_acc.avg[0]"
   ]
  },
  {
   "cell_type": "code",
   "execution_count": null,
   "id": "631d55e9",
   "metadata": {},
   "outputs": [],
   "source": [
    "run_acc.avg[1]"
   ]
  },
  {
   "cell_type": "code",
   "execution_count": null,
   "id": "ef69bcf6",
   "metadata": {},
   "outputs": [],
   "source": [
    "run_acc.avg[2]"
   ]
  },
  {
   "cell_type": "code",
   "execution_count": null,
   "id": "917d53fd",
   "metadata": {},
   "outputs": [],
   "source": [
    "!nvidia-smi"
   ]
  },
  {
   "cell_type": "code",
   "execution_count": null,
   "id": "d41c67a8",
   "metadata": {},
   "outputs": [],
   "source": []
  }
 ],
 "metadata": {
  "kernelspec": {
   "display_name": "Python 3 (ipykernel)",
   "language": "python",
   "name": "python3"
  },
  "language_info": {
   "codemirror_mode": {
    "name": "ipython",
    "version": 3
   },
   "file_extension": ".py",
   "mimetype": "text/x-python",
   "name": "python",
   "nbconvert_exporter": "python",
   "pygments_lexer": "ipython3",
   "version": "3.9.10"
  }
 },
 "nbformat": 4,
 "nbformat_minor": 5
}
