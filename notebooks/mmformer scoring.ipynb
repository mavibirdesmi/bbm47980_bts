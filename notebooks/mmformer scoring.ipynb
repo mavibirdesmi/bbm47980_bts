{
 "cells": [
  {
   "cell_type": "code",
   "execution_count": 1,
   "id": "310fc6b2",
   "metadata": {},
   "outputs": [],
   "source": [
    "from bts.mmformer.predict import val_epoch\n",
    "from bts.mmformer.mmformer.mmformer import Model\n",
    "from bts.data.porcupine_dataset import PorcupineDataset\n",
    "\n",
    "import torch\n",
    "from torch.utils.data import DataLoader\n",
    "from torch.optim import Adam\n",
    "\n",
    "from monai.transforms import (\n",
    "    Compose,\n",
    "    LoadImaged,\n",
    "    MapTransform,\n",
    "    NormalizeIntensityd,\n",
    "    RandFlipd,\n",
    "    RandSpatialCropd,\n",
    "    Resized,\n",
    "    Transform,\n",
    ")\n",
    "from bts.data.utils import UnsqueezeDatad\n",
    "from bts.data.dataset import ConvertToMultiChannelBasedOnEchidnaClassesd"
   ]
  },
  {
   "cell_type": "code",
   "execution_count": 2,
   "id": "af0809db",
   "metadata": {},
   "outputs": [],
   "source": [
    "dataset_path = \"/home/desmin/data/porcupine_dataset/train\"\n",
    "\n",
    "train_dataset = PorcupineDataset(dataset_root_path=dataset_path, transform=Compose([\n",
    "    LoadImaged([\"image\"], reader=\"NrrdReader\"),\n",
    "    LoadImaged([\"label\"], reader=\"NumpyReader\"),\n",
    "    UnsqueezeDatad([\"image\", \"label\"]),\n",
    "    RandSpatialCropd(\n",
    "        keys=[\"image\", \"label\"],\n",
    "        roi_size=[128, 128, 128],\n",
    "        random_size=False,\n",
    "    ),\n",
    "    Resized(\n",
    "        keys=[\"image\", \"label\"],\n",
    "        spatial_size=[128,128,128]\n",
    "    )\n",
    "]))\n",
    "train_loader = DataLoader(train_dataset, batch_size=1, pin_memory=True)"
   ]
  },
  {
   "cell_type": "code",
   "execution_count": 3,
   "id": "5c90793a",
   "metadata": {},
   "outputs": [],
   "source": [
    "dataset_path = \"/home/desmin/data/porcupine_dataset/validation\"\n",
    "\n",
    "val_dataset = PorcupineDataset(dataset_root_path=dataset_path, transform=Compose([\n",
    "    LoadImaged([\"image\"], reader=\"NrrdReader\"),\n",
    "    LoadImaged([\"label\"], reader=\"NumpyReader\"),\n",
    "    UnsqueezeDatad([\"image\", \"label\"])\n",
    "]))\n",
    "val_loader = DataLoader(val_dataset, batch_size=1, pin_memory=True)"
   ]
  },
  {
   "cell_type": "markdown",
   "id": "7c338b0e",
   "metadata": {},
   "source": [
    "```\n",
    "# load model\n",
    "class_num = 4\n",
    "weights_path = \"/home/desmin/grad_project/bbm47980_bts/notebooks/mmformer_model_weights.pth\"\n",
    "\n",
    "mmformer = Model(num_cls=class_num)\n",
    "mmformer.load_state_dict(torch.load(weights_path))\n",
    "mmformer_parallel = torch.nn.DataParallel(mmformer).cuda()\n",
    "```"
   ]
  },
  {
   "cell_type": "code",
   "execution_count": 8,
   "id": "5d4034ab",
   "metadata": {},
   "outputs": [
    {
     "data": {
      "text/plain": [
       "<All keys matched successfully>"
      ]
     },
     "execution_count": 8,
     "metadata": {},
     "output_type": "execute_result"
    }
   ],
   "source": [
    "class_num = 4\n",
    "mmformer = Model(num_cls=class_num)\n",
    "mmformer_woft = torch.nn.DataParallel(mmformer).cuda()\n",
    "\n",
    "weights_path = \"/home/desmin/grad_project/bbm47980_bts/bts/mmformer/mmformer/out/model_last.pth\"\n",
    "mmformer_woft.load_state_dict(torch.load(weights_path)[\"state_dict\"])"
   ]
  },
  {
   "cell_type": "code",
   "execution_count": 11,
   "id": "065e4e38",
   "metadata": {},
   "outputs": [
    {
     "data": {
      "application/vnd.jupyter.widget-view+json": {
       "model_id": "fc206a4771314645b50ebebe7160f996",
       "version_major": 2,
       "version_minor": 0
      },
      "text/plain": [
       "  0%|          | 0/169 [00:00<?, ?it/s]"
      ]
     },
     "metadata": {},
     "output_type": "display_data"
    },
    {
     "data": {
      "text/plain": [
       "{'avg_dice': array([0.3467529], dtype=float32)}"
      ]
     },
     "execution_count": 11,
     "metadata": {},
     "output_type": "execute_result"
    }
   ],
   "source": [
    "val_epoch(\n",
    "    model = mmformer_woft,\n",
    "    loader = train_loader,\n",
    "    epoch = 0\n",
    ")"
   ]
  },
  {
   "cell_type": "code",
   "execution_count": 12,
   "id": "5ab956b6",
   "metadata": {},
   "outputs": [
    {
     "data": {
      "application/vnd.jupyter.widget-view+json": {
       "model_id": "d269dfe12c014e9e8e764210424ef7ba",
       "version_major": 2,
       "version_minor": 0
      },
      "text/plain": [
       "  0%|          | 0/20 [00:00<?, ?it/s]"
      ]
     },
     "metadata": {},
     "output_type": "display_data"
    },
    {
     "data": {
      "text/plain": [
       "{'avg_dice': array([0.17493221], dtype=float32)}"
      ]
     },
     "execution_count": 12,
     "metadata": {},
     "output_type": "execute_result"
    }
   ],
   "source": [
    "val_epoch(\n",
    "    model = mmformer_woft,\n",
    "    loader = val_loader,\n",
    "    epoch = 0\n",
    ")"
   ]
  }
 ],
 "metadata": {
  "kernelspec": {
   "display_name": "Python 3 (ipykernel)",
   "language": "python",
   "name": "python3"
  },
  "language_info": {
   "codemirror_mode": {
    "name": "ipython",
    "version": 3
   },
   "file_extension": ".py",
   "mimetype": "text/x-python",
   "name": "python",
   "nbconvert_exporter": "python",
   "pygments_lexer": "ipython3",
   "version": "3.9.10"
  }
 },
 "nbformat": 4,
 "nbformat_minor": 5
}
