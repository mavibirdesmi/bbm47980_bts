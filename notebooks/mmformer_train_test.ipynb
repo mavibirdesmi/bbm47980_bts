{
 "cells": [
  {
   "cell_type": "code",
   "execution_count": 1,
   "id": "5179dd28",
   "metadata": {},
   "outputs": [],
   "source": [
    "from bts.mmformer.train import train_epoch\n",
    "from bts.mmformer.mmformer.mmformer import Model\n",
    "from bts.data.porcupine_dataset import PorcupineDataset\n",
    "\n",
    "import torch\n",
    "from torch.utils.data import DataLoader\n",
    "from torch.optim import Adam\n",
    "\n",
    "from monai.transforms import (\n",
    "    Compose,\n",
    "    LoadImaged,\n",
    "    MapTransform,\n",
    "    NormalizeIntensityd,\n",
    "    RandFlipd,\n",
    "    RandSpatialCropd,\n",
    "    Resized,\n",
    "    Transform,\n",
    ")\n",
    "from bts.data.utils import UnsqueezeDatad\n",
    "from bts.data.dataset import ConvertToMultiChannelBasedOnEchidnaClassesd"
   ]
  },
  {
   "cell_type": "code",
   "execution_count": 2,
   "id": "553f047a",
   "metadata": {},
   "outputs": [],
   "source": [
    "dataset_path = \"/home/desmin/data/porcupine_dataset/train\"\n",
    "\n",
    "train_dataset = PorcupineDataset(dataset_root_path=dataset_path, transform=Compose([\n",
    "    LoadImaged([\"image\"], reader=\"NrrdReader\"),\n",
    "    LoadImaged([\"label\"], reader=\"NumpyReader\"),\n",
    "    UnsqueezeDatad([\"image\", \"label\"]),\n",
    "    RandSpatialCropd(\n",
    "        keys=[\"image\", \"label\"],\n",
    "        roi_size=[128, 128, 128],\n",
    "        random_size=False,\n",
    "    ),\n",
    "    Resized(\n",
    "        keys=[\"image\", \"label\"],\n",
    "        spatial_size=[128,128,128]\n",
    "    )\n",
    "]))\n",
    "train_loader = DataLoader(train_dataset, batch_size=1, pin_memory=True)"
   ]
  },
  {
   "cell_type": "code",
   "execution_count": 3,
   "id": "1ce3f482",
   "metadata": {},
   "outputs": [
    {
     "data": {
      "text/plain": [
       "<All keys matched successfully>"
      ]
     },
     "execution_count": 3,
     "metadata": {},
     "output_type": "execute_result"
    }
   ],
   "source": [
    "# load model\n",
    "class_num = 4\n",
    "\n",
    "mmformer = Model(num_cls=class_num)\n",
    "mmformer_parallel = torch.nn.DataParallel(mmformer).cuda()\n",
    "\n",
    "weights_path = \"/home/desmin/grad_project/bbm47980_bts/bts/mmformer/mmformer/out/model_last.pth\"\n",
    "mmformer_parallel.load_state_dict(torch.load(weights_path)[\"state_dict\"])"
   ]
  },
  {
   "cell_type": "code",
   "execution_count": 4,
   "id": "8ea4f6c3",
   "metadata": {},
   "outputs": [
    {
     "name": "stdout",
     "output_type": "stream",
     "text": [
      "Tue Jun 13 04:26:37 2023       \r\n",
      "+-----------------------------------------------------------------------------+\r\n",
      "| NVIDIA-SMI 470.57.02    Driver Version: 470.57.02    CUDA Version: 11.4     |\r\n",
      "|-------------------------------+----------------------+----------------------+\r\n",
      "| GPU  Name        Persistence-M| Bus-Id        Disp.A | Volatile Uncorr. ECC |\r\n",
      "| Fan  Temp  Perf  Pwr:Usage/Cap|         Memory-Usage | GPU-Util  Compute M. |\r\n",
      "|                               |                      |               MIG M. |\r\n",
      "|===============================+======================+======================|\r\n",
      "|   0  Quadro P5000        Off  | 00000000:3B:00.0 Off |                  Off |\r\n",
      "| 26%   38C    P0    44W / 180W |   1145MiB / 16276MiB |     10%      Default |\r\n",
      "|                               |                      |                  N/A |\r\n",
      "+-------------------------------+----------------------+----------------------+\r\n",
      "|   1  Quadro P5000        Off  | 00000000:5E:00.0 Off |                  Off |\r\n",
      "| 26%   31C    P8    11W / 180W |      2MiB / 16278MiB |      0%      Default |\r\n",
      "|                               |                      |                  N/A |\r\n",
      "+-------------------------------+----------------------+----------------------+\r\n",
      "                                                                               \r\n",
      "+-----------------------------------------------------------------------------+\r\n",
      "| Processes:                                                                  |\r\n",
      "|  GPU   GI   CI        PID   Type   Process name                  GPU Memory |\r\n",
      "|        ID   ID                                                   Usage      |\r\n",
      "|=============================================================================|\r\n",
      "|    0   N/A  N/A    607696      C   ...7980_bts/.venv/bin/python     1143MiB |\r\n",
      "+-----------------------------------------------------------------------------+\r\n"
     ]
    }
   ],
   "source": [
    "!nvidia-smi"
   ]
  },
  {
   "cell_type": "code",
   "execution_count": 5,
   "id": "efaca208",
   "metadata": {},
   "outputs": [],
   "source": [
    "optim = Adam(mmformer_parallel.parameters(), lr=1e-4)"
   ]
  },
  {
   "cell_type": "code",
   "execution_count": 6,
   "id": "20d7728d",
   "metadata": {},
   "outputs": [
    {
     "data": {
      "application/vnd.jupyter.widget-view+json": {
       "model_id": "5ac846ddce614b1b8f5e07f868f8c306",
       "version_major": 2,
       "version_minor": 0
      },
      "text/plain": [
       "Epoch 1:   0%|          | 0/169 [00:00<?, ?it/s]"
      ]
     },
     "metadata": {},
     "output_type": "display_data"
    },
    {
     "name": "stdout",
     "output_type": "stream",
     "text": [
      "EPOCH 1/10: 0.5239266915434211\n"
     ]
    },
    {
     "data": {
      "application/vnd.jupyter.widget-view+json": {
       "model_id": "5c89074debdc4403825b8a57233190dd",
       "version_major": 2,
       "version_minor": 0
      },
      "text/plain": [
       "Epoch 2:   0%|          | 0/169 [00:00<?, ?it/s]"
      ]
     },
     "metadata": {},
     "output_type": "display_data"
    },
    {
     "name": "stdout",
     "output_type": "stream",
     "text": [
      "EPOCH 2/10: 0.48026738355498344\n"
     ]
    },
    {
     "data": {
      "application/vnd.jupyter.widget-view+json": {
       "model_id": "b54ca891c46f490f8da8b3df84d2b668",
       "version_major": 2,
       "version_minor": 0
      },
      "text/plain": [
       "Epoch 3:   0%|          | 0/169 [00:00<?, ?it/s]"
      ]
     },
     "metadata": {},
     "output_type": "display_data"
    },
    {
     "name": "stdout",
     "output_type": "stream",
     "text": [
      "EPOCH 3/10: 0.4571548505912166\n"
     ]
    },
    {
     "data": {
      "application/vnd.jupyter.widget-view+json": {
       "model_id": "48b3090947b04e05bf508909e3905dd1",
       "version_major": 2,
       "version_minor": 0
      },
      "text/plain": [
       "Epoch 4:   0%|          | 0/169 [00:00<?, ?it/s]"
      ]
     },
     "metadata": {},
     "output_type": "display_data"
    },
    {
     "name": "stdout",
     "output_type": "stream",
     "text": [
      "EPOCH 4/10: 0.4574287608265877\n"
     ]
    },
    {
     "data": {
      "application/vnd.jupyter.widget-view+json": {
       "model_id": "6d2ee7f4db0344ceafc63c64430dba63",
       "version_major": 2,
       "version_minor": 0
      },
      "text/plain": [
       "Epoch 5:   0%|          | 0/169 [00:00<?, ?it/s]"
      ]
     },
     "metadata": {},
     "output_type": "display_data"
    },
    {
     "name": "stdout",
     "output_type": "stream",
     "text": [
      "EPOCH 5/10: 0.4476693458193858\n"
     ]
    },
    {
     "data": {
      "application/vnd.jupyter.widget-view+json": {
       "model_id": "31b9ea3bf45548efa29f0fded0b30459",
       "version_major": 2,
       "version_minor": 0
      },
      "text/plain": [
       "Epoch 6:   0%|          | 0/169 [00:00<?, ?it/s]"
      ]
     },
     "metadata": {},
     "output_type": "display_data"
    },
    {
     "name": "stdout",
     "output_type": "stream",
     "text": [
      "EPOCH 6/10: 0.45022268064276\n"
     ]
    },
    {
     "data": {
      "application/vnd.jupyter.widget-view+json": {
       "model_id": "0e793839019149afb7ef721f480d15f5",
       "version_major": 2,
       "version_minor": 0
      },
      "text/plain": [
       "Epoch 7:   0%|          | 0/169 [00:00<?, ?it/s]"
      ]
     },
     "metadata": {},
     "output_type": "display_data"
    },
    {
     "name": "stdout",
     "output_type": "stream",
     "text": [
      "EPOCH 7/10: 0.4391207581264733\n"
     ]
    },
    {
     "data": {
      "application/vnd.jupyter.widget-view+json": {
       "model_id": "b5512b3aa61b4e9c8897bab971c1f345",
       "version_major": 2,
       "version_minor": 0
      },
      "text/plain": [
       "Epoch 8:   0%|          | 0/169 [00:00<?, ?it/s]"
      ]
     },
     "metadata": {},
     "output_type": "display_data"
    },
    {
     "name": "stdout",
     "output_type": "stream",
     "text": [
      "EPOCH 8/10: 0.4289081849642759\n"
     ]
    },
    {
     "data": {
      "application/vnd.jupyter.widget-view+json": {
       "model_id": "f6ff2e90318f45e78ffbc14d01f581d1",
       "version_major": 2,
       "version_minor": 0
      },
      "text/plain": [
       "Epoch 9:   0%|          | 0/169 [00:00<?, ?it/s]"
      ]
     },
     "metadata": {},
     "output_type": "display_data"
    },
    {
     "name": "stdout",
     "output_type": "stream",
     "text": [
      "EPOCH 9/10: 0.43721846486689775\n"
     ]
    },
    {
     "data": {
      "application/vnd.jupyter.widget-view+json": {
       "model_id": "e2c6059d74f74e859bab653fccfa793c",
       "version_major": 2,
       "version_minor": 0
      },
      "text/plain": [
       "Epoch 10:   0%|          | 0/169 [00:00<?, ?it/s]"
      ]
     },
     "metadata": {},
     "output_type": "display_data"
    },
    {
     "name": "stdout",
     "output_type": "stream",
     "text": [
      "EPOCH 10/10: 0.43343812214023264\n"
     ]
    }
   ],
   "source": [
    "history_all = []\n",
    "for epoch_idx in range(10):\n",
    "    history = train_epoch(\n",
    "        model = mmformer_parallel,\n",
    "        loader = train_loader,\n",
    "        optimizer = optim,\n",
    "        epoch=epoch_idx + 1\n",
    "    )\n",
    "    history_all.append(history[\"Mean Train Loss\"])\n",
    "    \n",
    "    torch.save(mmformer_parallel.module.state_dict(), \"mmformer_model_weights.pth\")\n",
    "    print(f\"EPOCH {epoch_idx+1}/10: {history['Mean Train Loss']}\")"
   ]
  }
 ],
 "metadata": {
  "kernelspec": {
   "display_name": "Python 3 (ipykernel)",
   "language": "python",
   "name": "python3"
  },
  "language_info": {
   "codemirror_mode": {
    "name": "ipython",
    "version": 3
   },
   "file_extension": ".py",
   "mimetype": "text/x-python",
   "name": "python",
   "nbconvert_exporter": "python",
   "pygments_lexer": "ipython3",
   "version": "3.9.10"
  }
 },
 "nbformat": 4,
 "nbformat_minor": 5
}
